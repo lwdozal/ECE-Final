{
  "nbformat": 4,
  "nbformat_minor": 0,
  "metadata": {
    "colab": {
      "name": "HAN_practice.ipynb",
      "provenance": [],
      "collapsed_sections": [],
      "authorship_tag": "ABX9TyMs0VGNtoivStqrbemj0fNE",
      "include_colab_link": true
    },
    "kernelspec": {
      "name": "python3",
      "display_name": "Python 3"
    }
  },
  "cells": [
    {
      "cell_type": "markdown",
      "metadata": {
        "id": "view-in-github",
        "colab_type": "text"
      },
      "source": [
        "<a href=\"https://colab.research.google.com/github/lwerth/ECE-Final/blob/master/HAN_practice.ipynb\" target=\"_parent\"><img src=\"https://colab.research.google.com/assets/colab-badge.svg\" alt=\"Open In Colab\"/></a>"
      ]
    },
    {
      "cell_type": "markdown",
      "metadata": {
        "id": "qSgMXAhQQu8M",
        "colab_type": "text"
      },
      "source": [
        "\n",
        "Proppy Propaganda Classifier - HAN\n",
        "This script uses news articles pulled from a news corpus provided by https://propaganda.qcri.org/ in hopes of building a prapaganda classifier. Each article is annotated with \"propoganistic\" and \"non-propoganistic\" lables that will help with classification of each article. We exploit these labels to train a model with minimal external classification.\n",
        "\n",
        "Let's begin:"
      ]
    },
    {
      "cell_type": "code",
      "metadata": {
        "id": "k2VdRg0kQ4fA",
        "colab_type": "code",
        "colab": {}
      },
      "source": [
        "import pandas as pd\n",
        "import numpy as np\n",
        "from keras.preprocessing.text import Tokenizer,  text_to_word_sequence\n",
        "from keras.engine.topology import Layer\n",
        "from keras import initializers as initializers, regularizers, constraints\n",
        "from keras.callbacks import Callback, ModelCheckpoint\n",
        "from keras.utils.np_utils import to_categorical\n",
        "from keras.layers import Embedding, Input, Dense, LSTM, GRU, Bidirectional, TimeDistributed, Dropout\n",
        "from keras import backend as K\n",
        "from keras import optimizers\n",
        "from keras.models import Model\n",
        "import nltk\n",
        "import re\n",
        "import matplotlib.pyplot as plt\n",
        "import sys\n",
        "from sklearn.metrics import roc_auc_score\n",
        "from nltk import tokenize\n",
        "import seaborn as sns"
      ],
      "execution_count": 0,
      "outputs": []
    },
    {
      "cell_type": "code",
      "metadata": {
        "id": "opG1R3J5kdSM",
        "colab_type": "code",
        "colab": {}
      },
      "source": [
        "def dot_product(x, kernel):\n",
        "    \"\"\"\n",
        "    Wrapper for dot product operation, in order to be compatibl|e with both\n",
        "    Theano and Tensorflow\n",
        "    Args:\n",
        "        x (): input\n",
        "        kernel (): weights\n",
        "    Returns:\n",
        "    \"\"\"\n",
        "    if K.backend() == 'tensorflow':\n",
        "        return K.squeeze(K.dot(x, K.expand_dims(kernel)), axis=-1)\n",
        "    else:\n",
        "        return K.dot(x, kernel)\n",
        "\n",
        "class AttentionWithContext(Layer):\n",
        "    \"\"\"\n",
        "    Attention operation, with a context/query vector, for temporal data.\n",
        "    Supports Masking.\n",
        "    Follows the work of Yang et al. [https://www.cs.cmu.edu/~diyiy/docs/naacl16.pdf]\n",
        "    \"Hierarchical Attention Networks for Document Classification\"\n",
        "    by using a context vector to assist the attention\n",
        "    # Input shape\n",
        "        3D tensor with shape: `(samples, steps, features)`.\n",
        "    # Output shape\n",
        "        2D tensor with shape: `(samples, features)`.\n",
        "    How to use:\n",
        "    Just put it on top of an RNN Layer (GRU/LSTM/SimpleRNN) with return_sequences=True.\n",
        "    The dimensions are inferred based on the output shape of the RNN.\n",
        "    Note: The layer has been tested with Keras 2.0.6\n",
        "    Example:\n",
        "        model.add(LSTM(64, return_sequences=True))\n",
        "        model.add(AttentionWithContext())\n",
        "        # next add a Dense layer (for classification/regression) or whatever...\n",
        "    \"\"\"\n",
        "\n",
        "    def __init__(self,\n",
        "                 W_regularizer=None, u_regularizer=None, b_regularizer=None,\n",
        "                 W_constraint=None, u_constraint=None, b_constraint=None,\n",
        "                 bias=True, **kwargs):\n",
        "\n",
        "        self.supports_masking = True\n",
        "        self.init = initializers.get('glorot_uniform')\n",
        "\n",
        "        self.W_regularizer = regularizers.get(W_regularizer)\n",
        "        self.u_regularizer = regularizers.get(u_regularizer)\n",
        "        self.b_regularizer = regularizers.get(b_regularizer)\n",
        "\n",
        "        self.W_constraint = constraints.get(W_constraint)\n",
        "        self.u_constraint = constraints.get(u_constraint)\n",
        "        self.b_constraint = constraints.get(b_constraint)\n",
        "\n",
        "        self.bias = bias\n",
        "        super(AttentionWithContext, self).__init__(**kwargs)\n",
        "\n",
        "    def build(self, input_shape):\n",
        "        assert len(input_shape) == 3\n",
        "\n",
        "        self.W = self.add_weight((input_shape[-1], input_shape[-1],),\n",
        "                                 initializer=self.init,\n",
        "                                 name='{}_W'.format(self.name),\n",
        "                                 regularizer=self.W_regularizer,\n",
        "                                 constraint=self.W_constraint)\n",
        "        if self.bias:\n",
        "            self.b = self.add_weight((input_shape[-1],),\n",
        "                                     initializer='zero',\n",
        "                                     name='{}_b'.format(self.name),\n",
        "                                     regularizer=self.b_regularizer,\n",
        "                                     constraint=self.b_constraint)\n",
        "\n",
        "        self.u = self.add_weight((input_shape[-1],),\n",
        "                                 initializer=self.init,\n",
        "                                 name='{}_u'.format(self.name),\n",
        "                                 regularizer=self.u_regularizer,\n",
        "                                 constraint=self.u_constraint)\n",
        "\n",
        "        super(AttentionWithContext, self).build(input_shape)\n",
        "\n",
        "    def compute_mask(self, input, input_mask=None):\n",
        "        # do not pass the mask to the next layers\n",
        "        return None\n",
        "\n",
        "    def call(self, x, mask=None):\n",
        "        uit = dot_product(x, self.W)\n",
        "\n",
        "        if self.bias:\n",
        "            uit += self.b\n",
        "\n",
        "        uit = K.tanh(uit)\n",
        "        ait = dot_product(uit, self.u)\n",
        "\n",
        "        a = K.exp(ait)\n",
        "\n",
        "        # apply mask after the exp. will be re-normalized next\n",
        "        if mask is not None:\n",
        "            # Cast the mask to floatX to avoid float64 upcasting in theano\n",
        "            a *= K.cast(mask, K.floatx())\n",
        "\n",
        "        # in some cases especially in the early stages of training the sum may be almost zero\n",
        "        # and this results in NaN's. A workaround is to add a very small positive number ε to the sum.\n",
        "        # a /= K.cast(K.sum(a, axis=1, keepdims=True), K.floatx())\n",
        "        a /= K.cast(K.sum(a, axis=1, keepdims=True) + K.epsilon(), K.floatx())\n",
        "\n",
        "        a = K.expand_dims(a)\n",
        "        weighted_input = x * a\n",
        "        return K.sum(weighted_input, axis=1)\n",
        "\n",
        "    def compute_output_shape(self, input_shape):\n",
        "        return input_shape[0], input_shape[-1]\n",
        "        "
      ],
      "execution_count": 0,
      "outputs": []
    },
    {
      "cell_type": "code",
      "metadata": {
        "id": "Ixu9j9sGlqjo",
        "colab_type": "code",
        "colab": {}
      },
      "source": [
        ""
      ],
      "execution_count": 0,
      "outputs": []
    },
    {
      "cell_type": "code",
      "metadata": {
        "id": "q_zIe_7mqw1z",
        "colab_type": "code",
        "outputId": "2e2518af-0915-4242-8f0a-42ce4a3f31cc",
        "colab": {
          "base_uri": "https://localhost:8080/",
          "height": 54
        }
      },
      "source": [
        "from google.colab import drive\n",
        "drive.mount('/content/drive')"
      ],
      "execution_count": 350,
      "outputs": [
        {
          "output_type": "stream",
          "text": [
            "Drive already mounted at /content/drive; to attempt to forcibly remount, call drive.mount(\"/content/drive\", force_remount=True).\n"
          ],
          "name": "stdout"
        }
      ]
    },
    {
      "cell_type": "markdown",
      "metadata": {
        "id": "vTQytHgGakY5",
        "colab_type": "text"
      },
      "source": [
        ""
      ]
    },
    {
      "cell_type": "code",
      "metadata": {
        "id": "1TLtyl1dq6u5",
        "colab_type": "code",
        "outputId": "d6512233-92d0-4ed7-eaed-d1682b74a807",
        "colab": {
          "base_uri": "https://localhost:8080/",
          "height": 51
        }
      },
      "source": [
        "%cd /content/drive\n",
        "!ls\n"
      ],
      "execution_count": 351,
      "outputs": [
        {
          "output_type": "stream",
          "text": [
            "/content/drive\n",
            "'My Drive'\n"
          ],
          "name": "stdout"
        }
      ]
    },
    {
      "cell_type": "code",
      "metadata": {
        "id": "LSH0e8V3mhRW",
        "colab_type": "code",
        "colab": {}
      },
      "source": [
        "train_df = pd.read_pickle(r'My Drive/Spring 2020/ECE 523 - Machine Learning/ECE_523_FP/proppy_1.0.train.pkl')\n",
        "val_df = pd.read_pickle(r'My Drive/Spring 2020/ECE 523 - Machine Learning/ECE_523_FP/proppy_1.0.dev.pkl')\n",
        "test_df = pd.read_pickle(r'My Drive/Spring 2020/ECE 523 - Machine Learning/ECE_523_FP/proppy_1.0.test.pkl')"
      ],
      "execution_count": 0,
      "outputs": []
    },
    {
      "cell_type": "code",
      "metadata": {
        "id": "bLm9nc89mkb3",
        "colab_type": "code",
        "colab": {
          "base_uri": "https://localhost:8080/",
          "height": 547
        },
        "outputId": "15ffdce9-e4ea-412b-aa85-72fac1250b8d"
      },
      "source": [
        "train_df.tail()"
      ],
      "execution_count": 353,
      "outputs": [
        {
          "output_type": "execute_result",
          "data": {
            "text/html": [
              "<div>\n",
              "<style scoped>\n",
              "    .dataframe tbody tr th:only-of-type {\n",
              "        vertical-align: middle;\n",
              "    }\n",
              "\n",
              "    .dataframe tbody tr th {\n",
              "        vertical-align: top;\n",
              "    }\n",
              "\n",
              "    .dataframe thead th {\n",
              "        text-align: right;\n",
              "    }\n",
              "</style>\n",
              "<table border=\"1\" class=\"dataframe\">\n",
              "  <thead>\n",
              "    <tr style=\"text-align: right;\">\n",
              "      <th></th>\n",
              "      <th>article_text</th>\n",
              "      <th>event_location</th>\n",
              "      <th>average_tone</th>\n",
              "      <th>article_date</th>\n",
              "      <th>article_ID</th>\n",
              "      <th>article_URL_direct</th>\n",
              "      <th>MBFC_factuality_label_source</th>\n",
              "      <th>article_url</th>\n",
              "      <th>MBFC_factuality_label</th>\n",
              "      <th>URL_to_MBFC_page</th>\n",
              "      <th>source_name</th>\n",
              "      <th>MBFC_notes_about_source</th>\n",
              "      <th>MBFC_bias_label</th>\n",
              "      <th>source_URL</th>\n",
              "      <th>propaganda_label</th>\n",
              "    </tr>\n",
              "  </thead>\n",
              "  <tbody>\n",
              "    <tr>\n",
              "      <th>35988</th>\n",
              "      <td>From The Telegraph:  Towns in Brazil have beco...</td>\n",
              "      <td>Hollywood, California, United States</td>\n",
              "      <td>-3.19327731092437</td>\n",
              "      <td>2018-09-10</td>\n",
              "      <td>785781276</td>\n",
              "      <td>https://www.lewrockwell.com/2018/09/no_author/...</td>\n",
              "      <td>N/A</td>\n",
              "      <td>Escape to Boa Vista</td>\n",
              "      <td>unknown</td>\n",
              "      <td>unknown</td>\n",
              "      <td>lewrockwell.com</td>\n",
              "      <td>unknown</td>\n",
              "      <td>unknown</td>\n",
              "      <td>lewrockwell.com</td>\n",
              "      <td>1</td>\n",
              "    </tr>\n",
              "    <tr>\n",
              "      <th>35989</th>\n",
              "      <td>The second episode of Consortium News on Flash...</td>\n",
              "      <td>Pacifica, California, United States</td>\n",
              "      <td>0.52631578947369</td>\n",
              "      <td>2018-09-10</td>\n",
              "      <td>785781322</td>\n",
              "      <td>https://www.lewrockwell.com/2018/09/no_author/...</td>\n",
              "      <td>Jim Macgregor</td>\n",
              "      <td>Flash Points</td>\n",
              "      <td>unknown</td>\n",
              "      <td>unknown</td>\n",
              "      <td>lewrockwell.com</td>\n",
              "      <td>unknown</td>\n",
              "      <td>unknown</td>\n",
              "      <td>lewrockwell.com</td>\n",
              "      <td>1</td>\n",
              "    </tr>\n",
              "    <tr>\n",
              "      <th>35990</th>\n",
              "      <td>It is beginning.  Actually, it’s been happenin...</td>\n",
              "      <td>White House, District of Columbia, United States</td>\n",
              "      <td>-3.45528455284552</td>\n",
              "      <td>2018-09-10</td>\n",
              "      <td>785781455</td>\n",
              "      <td>https://www.lewrockwell.com/2018/09/eric-peter...</td>\n",
              "      <td>Eric Peters</td>\n",
              "      <td>Tesla’s Death Dive</td>\n",
              "      <td>unknown</td>\n",
              "      <td>unknown</td>\n",
              "      <td>lewrockwell.com</td>\n",
              "      <td>unknown</td>\n",
              "      <td>unknown</td>\n",
              "      <td>lewrockwell.com</td>\n",
              "      <td>1</td>\n",
              "    </tr>\n",
              "    <tr>\n",
              "      <th>35991</th>\n",
              "      <td>Justin’s note: As regular Dispatch readers kno...</td>\n",
              "      <td>United States</td>\n",
              "      <td>-1.05204872646734</td>\n",
              "      <td>2018-09-10</td>\n",
              "      <td>785781711</td>\n",
              "      <td>https://www.lewrockwell.com/2018/09/doug-casey...</td>\n",
              "      <td>Doug Casey</td>\n",
              "      <td>Doug Casey on the ‘Politically Correct’ Movement</td>\n",
              "      <td>unknown</td>\n",
              "      <td>unknown</td>\n",
              "      <td>lewrockwell.com</td>\n",
              "      <td>unknown</td>\n",
              "      <td>unknown</td>\n",
              "      <td>lewrockwell.com</td>\n",
              "      <td>1</td>\n",
              "    </tr>\n",
              "    <tr>\n",
              "      <th>35992</th>\n",
              "      <td>“No man can serve two masters” (Matthew 6:24)....</td>\n",
              "      <td>United States</td>\n",
              "      <td>0.25641025641026</td>\n",
              "      <td>2018-09-11</td>\n",
              "      <td>786060460</td>\n",
              "      <td>https://www.lewrockwell.com/2018/09/laurence-m...</td>\n",
              "      <td>Laurence M. Vance</td>\n",
              "      <td>Serving Two Masters</td>\n",
              "      <td>unknown</td>\n",
              "      <td>unknown</td>\n",
              "      <td>lewrockwell.com</td>\n",
              "      <td>unknown</td>\n",
              "      <td>unknown</td>\n",
              "      <td>lewrockwell.com</td>\n",
              "      <td>1</td>\n",
              "    </tr>\n",
              "  </tbody>\n",
              "</table>\n",
              "</div>"
            ],
            "text/plain": [
              "                                            article_text  ... propaganda_label\n",
              "35988  From The Telegraph:  Towns in Brazil have beco...  ...                1\n",
              "35989  The second episode of Consortium News on Flash...  ...                1\n",
              "35990  It is beginning.  Actually, it’s been happenin...  ...                1\n",
              "35991  Justin’s note: As regular Dispatch readers kno...  ...                1\n",
              "35992  “No man can serve two masters” (Matthew 6:24)....  ...                1\n",
              "\n",
              "[5 rows x 15 columns]"
            ]
          },
          "metadata": {
            "tags": []
          },
          "execution_count": 353
        }
      ]
    },
    {
      "cell_type": "code",
      "metadata": {
        "id": "eEuundyDmpEe",
        "colab_type": "code",
        "colab": {
          "base_uri": "https://localhost:8080/",
          "height": 34
        },
        "outputId": "94a98f69-3ac9-4e43-a824-19e094e20da4"
      },
      "source": [
        "train_df.propaganda_label.unique()"
      ],
      "execution_count": 354,
      "outputs": [
        {
          "output_type": "execute_result",
          "data": {
            "text/plain": [
              "array([-1,  1])"
            ]
          },
          "metadata": {
            "tags": []
          },
          "execution_count": 354
        }
      ]
    },
    {
      "cell_type": "code",
      "metadata": {
        "id": "maRn1_8PoyXs",
        "colab_type": "code",
        "colab": {
          "base_uri": "https://localhost:8080/",
          "height": 391
        },
        "outputId": "c7d5c111-1fd2-49e8-bfee-f78552e08b4e"
      },
      "source": [
        "train_df.info()"
      ],
      "execution_count": 355,
      "outputs": [
        {
          "output_type": "stream",
          "text": [
            "<class 'pandas.core.frame.DataFrame'>\n",
            "RangeIndex: 35993 entries, 0 to 35992\n",
            "Data columns (total 15 columns):\n",
            " #   Column                        Non-Null Count  Dtype \n",
            "---  ------                        --------------  ----- \n",
            " 0   article_text                  35993 non-null  object\n",
            " 1   event_location                35993 non-null  object\n",
            " 2   average_tone                  35993 non-null  object\n",
            " 3   article_date                  35993 non-null  object\n",
            " 4   article_ID                    35993 non-null  object\n",
            " 5   article_URL_direct            35993 non-null  object\n",
            " 6   MBFC_factuality_label_source  35993 non-null  object\n",
            " 7   article_url                   35993 non-null  object\n",
            " 8   MBFC_factuality_label         35993 non-null  object\n",
            " 9   URL_to_MBFC_page              35993 non-null  object\n",
            " 10  source_name                   35993 non-null  object\n",
            " 11  MBFC_notes_about_source       35993 non-null  object\n",
            " 12  MBFC_bias_label               35993 non-null  object\n",
            " 13  source_URL                    35993 non-null  object\n",
            " 14  propaganda_label              35993 non-null  int64 \n",
            "dtypes: int64(1), object(14)\n",
            "memory usage: 4.1+ MB\n"
          ],
          "name": "stdout"
        }
      ]
    },
    {
      "cell_type": "markdown",
      "metadata": {
        "id": "XwPFlL8Vpr-f",
        "colab_type": "text"
      },
      "source": [
        "Now we can look at how many articles are labeled 'propaganstic', 1,  and 'non-propaganistic', -1. -The bias labels have 35 types of bias categories, unknown being one of them which is categorized as non-propaganistic. This is helpful in understanding why there are significantly larger numbers of non-propaganistic labels over propagandistic.  "
      ]
    },
    {
      "cell_type": "code",
      "metadata": {
        "id": "6KGe1nyMo-3t",
        "colab_type": "code",
        "colab": {
          "base_uri": "https://localhost:8080/",
          "height": 102
        },
        "outputId": "84850e45-205b-49db-87b5-30f544f954ab"
      },
      "source": [
        "grouped = train_df.groupby('propaganda_label')\n",
        "print(\"total categories:\", grouped.ngroups)\n",
        "print(grouped.size())"
      ],
      "execution_count": 356,
      "outputs": [
        {
          "output_type": "stream",
          "text": [
            "total categories: 2\n",
            "propaganda_label\n",
            "-1    31972\n",
            " 1     4021\n",
            "dtype: int64\n"
          ],
          "name": "stdout"
        }
      ]
    },
    {
      "cell_type": "code",
      "metadata": {
        "id": "UNkY_NDFre_y",
        "colab_type": "code",
        "colab": {}
      },
      "source": [
        "#clean the text  to remove puntuation and unessesary spaces\n",
        "\n",
        "import re\n",
        "def clean_str(string):\n",
        "    \"\"\"\n",
        "    Tokenization/string cleaning for dataset\n",
        "    Every dataset is lower cased except\n",
        "    \"\"\"\n",
        "    string = re.sub(r\"\\\\\", \"\", string)    \n",
        "    string = re.sub(r\"\\'\", \"\", string)    \n",
        "    string = re.sub(r\"\\\"\", \"\", string)    \n",
        "    return string.strip().lower()"
      ],
      "execution_count": 0,
      "outputs": []
    },
    {
      "cell_type": "code",
      "metadata": {
        "id": "4uGC5iAyrrNV",
        "colab_type": "code",
        "colab": {}
      },
      "source": [
        "paras = []\n",
        "labels = []\n",
        "texts = []"
      ],
      "execution_count": 0,
      "outputs": []
    },
    {
      "cell_type": "code",
      "metadata": {
        "id": "VjFXHJUvrwjZ",
        "colab_type": "code",
        "colab": {
          "base_uri": "https://localhost:8080/",
          "height": 51
        },
        "outputId": "4e738750-db1b-406b-c1fa-c2a4dabefe6c"
      },
      "source": [
        "import nltk\n",
        "nltk.download('punkt')\n",
        "\n",
        "sent_lens = []\n",
        "sent_nums = []\n",
        "for idx in range(train_df.article_text.shape[0]):\n",
        "    text = clean_str(train_df.article_text[idx])\n",
        "    texts.append(text)\n",
        "    sentences = tokenize.sent_tokenize(text)\n",
        "    sent_nums.append(len(sentences))\n",
        "    for sent in sentences:\n",
        "        sent_lens.append(len(text_to_word_sequence(sent)))\n",
        "    paras.append(sentences)"
      ],
      "execution_count": 359,
      "outputs": [
        {
          "output_type": "stream",
          "text": [
            "[nltk_data] Downloading package punkt to /root/nltk_data...\n",
            "[nltk_data]   Package punkt is already up-to-date!\n"
          ],
          "name": "stdout"
        }
      ]
    },
    {
      "cell_type": "code",
      "metadata": {
        "id": "g8zTqYvxsWzq",
        "colab_type": "code",
        "colab": {
          "base_uri": "https://localhost:8080/",
          "height": 265
        },
        "outputId": "e6e0972b-d3f5-438e-ef88-94b787887060"
      },
      "source": [
        "sns.distplot(sent_lens, bins=200)\n",
        "plt.show()"
      ],
      "execution_count": 360,
      "outputs": [
        {
          "output_type": "display_data",
          "data": {
            "image/png": "[encoded data removed]",
            "text/plain": [
              "<Figure size 432x288 with 1 Axes>"
            ]
          },
          "metadata": {
            "tags": [],
            "needs_background": "light"
          }
        }
      ]
    },
    {
      "cell_type": "code",
      "metadata": {
        "id": "gOxIVuUetQIV",
        "colab_type": "code",
        "colab": {
          "base_uri": "https://localhost:8080/",
          "height": 265
        },
        "outputId": "7a15da83-2be6-42af-b812-7699a82d6a5e"
      },
      "source": [
        "sns.distplot(sent_nums)\n",
        "plt.show()"
      ],
      "execution_count": 361,
      "outputs": [
        {
          "output_type": "display_data",
          "data": {
            "image/png": "[encoded data removed]",
            "text/plain": [
              "<Figure size 432x288 with 1 Axes>"
            ]
          },
          "metadata": {
            "tags": [],
            "needs_background": "light"
          }
        }
      ]
    },
    {
      "cell_type": "code",
      "metadata": {
        "id": "UFHMJxH-tr_U",
        "colab_type": "code",
        "colab": {}
      },
      "source": [
        "max_features=200000\n",
        "max_senten_len=50\n",
        "max_senten_num=10\n",
        "embed_size=100\n",
        "VALIDATION_SPLIT = 0.2"
      ],
      "execution_count": 0,
      "outputs": []
    },
    {
      "cell_type": "code",
      "metadata": {
        "id": "34MFvcvKtVZZ",
        "colab_type": "code",
        "colab": {}
      },
      "source": [
        "tokenizer = Tokenizer(num_words=max_features, oov_token=True)\n",
        "tokenizer.fit_on_texts(texts)"
      ],
      "execution_count": 0,
      "outputs": []
    },
    {
      "cell_type": "code",
      "metadata": {
        "id": "UUTjmweatzMb",
        "colab_type": "code",
        "colab": {}
      },
      "source": [
        "data = np.zeros((len(texts), max_senten_num, max_senten_len), dtype='int32')\n",
        "for i, sentences in enumerate(paras):\n",
        "    for j, sent in enumerate(sentences):\n",
        "        if j< max_senten_num:\n",
        "            wordTokens = text_to_word_sequence(sent)\n",
        "            k=0\n",
        "            for _, word in enumerate(wordTokens):\n",
        "                try:\n",
        "                    if k<max_senten_len and tokenizer.word_index[word]<max_features:\n",
        "                        data[i,j,k] = tokenizer.word_index[word]\n",
        "                        k=k+1\n",
        "                except:\n",
        "                    print(word)\n",
        "                    pass"
      ],
      "execution_count": 0,
      "outputs": []
    },
    {
      "cell_type": "code",
      "metadata": {
        "id": "k7ybV2yPuQ-8",
        "colab_type": "code",
        "colab": {
          "base_uri": "https://localhost:8080/",
          "height": 34
        },
        "outputId": "8ace21d1-e7a8-4f1c-fb61-8fb8582d81d8"
      },
      "source": [
        "data.shape\n"
      ],
      "execution_count": 365,
      "outputs": [
        {
          "output_type": "execute_result",
          "data": {
            "text/plain": [
              "(35993, 10, 50)"
            ]
          },
          "metadata": {
            "tags": []
          },
          "execution_count": 365
        }
      ]
    },
    {
      "cell_type": "code",
      "metadata": {
        "id": "eW0r5LKDulqa",
        "colab_type": "code",
        "colab": {}
      },
      "source": [
        "lbl = train_df['propaganda_label']\n",
        "text = train_df['article_text']"
      ],
      "execution_count": 0,
      "outputs": []
    },
    {
      "cell_type": "code",
      "metadata": {
        "id": "i6ICDcPJvEBn",
        "colab_type": "code",
        "colab": {
          "base_uri": "https://localhost:8080/",
          "height": 102
        },
        "outputId": "87c018c8-4c19-4a1e-c3e5-95fa3bc61e5a"
      },
      "source": [
        "\n",
        "cates = train_df.groupby('propaganda_label')\n",
        "print(\"total categories:\", cates.ngroups)\n",
        "print(cates.size())"
      ],
      "execution_count": 367,
      "outputs": [
        {
          "output_type": "stream",
          "text": [
            "total categories: 2\n",
            "propaganda_label\n",
            "-1    31972\n",
            " 1     4021\n",
            "dtype: int64\n"
          ],
          "name": "stdout"
        }
      ]
    },
    {
      "cell_type": "code",
      "metadata": {
        "id": "Y87DjxjduV4M",
        "colab_type": "code",
        "colab": {}
      },
      "source": [
        "labels = pd.get_dummies(lbl)\n"
      ],
      "execution_count": 0,
      "outputs": []
    },
    {
      "cell_type": "code",
      "metadata": {
        "id": "bmycs17fvRr2",
        "colab_type": "code",
        "colab": {
          "base_uri": "https://localhost:8080/",
          "height": 51
        },
        "outputId": "61d1b182-baa1-4982-985e-5aa98fdb3937"
      },
      "source": [
        "print('Shape of data tensor:', data.shape)\n",
        "print('Shape of labels tensor:', labels.shape)"
      ],
      "execution_count": 369,
      "outputs": [
        {
          "output_type": "stream",
          "text": [
            "Shape of data tensor: (35993, 10, 50)\n",
            "Shape of labels tensor: (35993, 2)\n"
          ],
          "name": "stdout"
        }
      ]
    },
    {
      "cell_type": "code",
      "metadata": {
        "id": "0maT-H_hv1gt",
        "colab_type": "code",
        "colab": {
          "base_uri": "https://localhost:8080/",
          "height": 564
        },
        "outputId": "ec843ec2-c296-402c-8be6-7298f2e75a1c"
      },
      "source": [
        "val_df.head()"
      ],
      "execution_count": 370,
      "outputs": [
        {
          "output_type": "execute_result",
          "data": {
            "text/html": [
              "<div>\n",
              "<style scoped>\n",
              "    .dataframe tbody tr th:only-of-type {\n",
              "        vertical-align: middle;\n",
              "    }\n",
              "\n",
              "    .dataframe tbody tr th {\n",
              "        vertical-align: top;\n",
              "    }\n",
              "\n",
              "    .dataframe thead th {\n",
              "        text-align: right;\n",
              "    }\n",
              "</style>\n",
              "<table border=\"1\" class=\"dataframe\">\n",
              "  <thead>\n",
              "    <tr style=\"text-align: right;\">\n",
              "      <th></th>\n",
              "      <th>article_text</th>\n",
              "      <th>event_location</th>\n",
              "      <th>average_tone</th>\n",
              "      <th>article_date</th>\n",
              "      <th>article_ID</th>\n",
              "      <th>article_URL_direct</th>\n",
              "      <th>MBFC_factuality_label_source</th>\n",
              "      <th>article_url</th>\n",
              "      <th>MBFC_factuality_label</th>\n",
              "      <th>URL_to_MBFC_page</th>\n",
              "      <th>source_name</th>\n",
              "      <th>MBFC_notes_about_source</th>\n",
              "      <th>MBFC_bias_label</th>\n",
              "      <th>source_URL</th>\n",
              "      <th>propaganda_label</th>\n",
              "    </tr>\n",
              "  </thead>\n",
              "  <tbody>\n",
              "    <tr>\n",
              "      <th>0</th>\n",
              "      <td>Convened to examine the causes of civil unrest...</td>\n",
              "      <td>Chicago, Illinois, United States</td>\n",
              "      <td>-4.59363957597174</td>\n",
              "      <td>2018-02-27</td>\n",
              "      <td>734202079</td>\n",
              "      <td>http://www.courant.com/nation-world/ct-no-prog...</td>\n",
              "      <td>Tracy Jan</td>\n",
              "      <td>Report: No progress for African-Americans on h...</td>\n",
              "      <td>HIGH</td>\n",
              "      <td>http://mediabiasfactcheck.com/the-hartford-cou...</td>\n",
              "      <td>The Hartford Courant</td>\n",
              "      <td>The Hartford Courant is the largest daily news...</td>\n",
              "      <td>leftcenter06</td>\n",
              "      <td>courant.com</td>\n",
              "      <td>-1</td>\n",
              "    </tr>\n",
              "    <tr>\n",
              "      <th>1</th>\n",
              "      <td>Discriminating against someone on the basis of...</td>\n",
              "      <td>Chicago, Illinois, United States</td>\n",
              "      <td>-1.56695156695157</td>\n",
              "      <td>2018-02-27</td>\n",
              "      <td>734203497</td>\n",
              "      <td>http://www.courant.com/nation-world/ct-anti-di...</td>\n",
              "      <td>Matt Zapotosky</td>\n",
              "      <td>Employers can't discriminate based on sexual o...</td>\n",
              "      <td>HIGH</td>\n",
              "      <td>http://mediabiasfactcheck.com/the-hartford-cou...</td>\n",
              "      <td>The Hartford Courant</td>\n",
              "      <td>The Hartford Courant is the largest daily news...</td>\n",
              "      <td>leftcenter06</td>\n",
              "      <td>courant.com</td>\n",
              "      <td>-1</td>\n",
              "    </tr>\n",
              "    <tr>\n",
              "      <th>2</th>\n",
              "      <td>Bill Cosby's 44-year-old daughter, Ensa Cosby,...</td>\n",
              "      <td>Philadelphia, Pennsylvania, United States</td>\n",
              "      <td>-6.15065976908082</td>\n",
              "      <td>2018-02-27</td>\n",
              "      <td>734204589</td>\n",
              "      <td>http://www.courant.com/entertainment/ct-cosby-...</td>\n",
              "      <td>Bob Salsberg</td>\n",
              "      <td>Bill Cosby's daughter Ensa, 44, dies in Massac...</td>\n",
              "      <td>HIGH</td>\n",
              "      <td>http://mediabiasfactcheck.com/the-hartford-cou...</td>\n",
              "      <td>The Hartford Courant</td>\n",
              "      <td>The Hartford Courant is the largest daily news...</td>\n",
              "      <td>leftcenter06</td>\n",
              "      <td>courant.com</td>\n",
              "      <td>-1</td>\n",
              "    </tr>\n",
              "    <tr>\n",
              "      <th>3</th>\n",
              "      <td>The fast-moving, powerful theatrical locomotiv...</td>\n",
              "      <td>New York, United States</td>\n",
              "      <td>1.52439024390244</td>\n",
              "      <td>2018-02-27</td>\n",
              "      <td>734213466</td>\n",
              "      <td>http://www.courant.com/entertainment/arts-thea...</td>\n",
              "      <td>Christopher Arnott</td>\n",
              "      <td>'Murder On The Orient Express' A Funny, Fast-P...</td>\n",
              "      <td>HIGH</td>\n",
              "      <td>http://mediabiasfactcheck.com/the-hartford-cou...</td>\n",
              "      <td>The Hartford Courant</td>\n",
              "      <td>The Hartford Courant is the largest daily news...</td>\n",
              "      <td>leftcenter06</td>\n",
              "      <td>courant.com</td>\n",
              "      <td>-1</td>\n",
              "    </tr>\n",
              "    <tr>\n",
              "      <th>4</th>\n",
              "      <td>It's Friday. It's National Pizza Day. Grab lif...</td>\n",
              "      <td>West Hartford, Connecticut, United States</td>\n",
              "      <td>1.19760479041916</td>\n",
              "      <td>2018-02-09</td>\n",
              "      <td>729554384</td>\n",
              "      <td>http://www.courant.com/features/food/hc-nation...</td>\n",
              "      <td>Nicholas Rondinone</td>\n",
              "      <td>You Can Celebrate National Pizza Day Right Here</td>\n",
              "      <td>HIGH</td>\n",
              "      <td>http://mediabiasfactcheck.com/the-hartford-cou...</td>\n",
              "      <td>The Hartford Courant</td>\n",
              "      <td>The Hartford Courant is the largest daily news...</td>\n",
              "      <td>leftcenter06</td>\n",
              "      <td>courant.com</td>\n",
              "      <td>-1</td>\n",
              "    </tr>\n",
              "  </tbody>\n",
              "</table>\n",
              "</div>"
            ],
            "text/plain": [
              "                                        article_text  ... propaganda_label\n",
              "0  Convened to examine the causes of civil unrest...  ...               -1\n",
              "1  Discriminating against someone on the basis of...  ...               -1\n",
              "2  Bill Cosby's 44-year-old daughter, Ensa Cosby,...  ...               -1\n",
              "3  The fast-moving, powerful theatrical locomotiv...  ...               -1\n",
              "4  It's Friday. It's National Pizza Day. Grab lif...  ...               -1\n",
              "\n",
              "[5 rows x 15 columns]"
            ]
          },
          "metadata": {
            "tags": []
          },
          "execution_count": 370
        }
      ]
    },
    {
      "cell_type": "code",
      "metadata": {
        "id": "LWGQ_tKevZ4u",
        "colab_type": "code",
        "colab": {
          "base_uri": "https://localhost:8080/",
          "height": 85
        },
        "outputId": "de21504a-9c1b-4ad3-9f80-45440a163b33"
      },
      "source": [
        "indices = np.arange(data.shape[0])\n",
        "np.random.shuffle(indices)\n",
        "data = data[indices]\n",
        "labels = labels.iloc[indices]\n",
        "nb_validation_samples = int(VALIDATION_SPLIT * data.shape[0])\n",
        "\n",
        "x_train = data\n",
        "y_train = labels\n",
        "x_val = data[-nb_validation_samples:]\n",
        "y_val = labels[-nb_validation_samples:]\n",
        "print('Number of propaganistic and non-propaganistic reviews in traing and validation set')\n",
        "print(y_train.columns.tolist())\n",
        "print(y_train.sum(axis=0).tolist())\n",
        "print(y_val.sum(axis=0).tolist())"
      ],
      "execution_count": 371,
      "outputs": [
        {
          "output_type": "stream",
          "text": [
            "Number of propaganistic and non-propaganistic reviews in traing and validation set\n",
            "[-1, 1]\n",
            "[31972, 4021]\n",
            "[6390, 808]\n"
          ],
          "name": "stdout"
        }
      ]
    },
    {
      "cell_type": "code",
      "metadata": {
        "id": "YUsR2DVywFMG",
        "colab_type": "code",
        "colab": {
          "base_uri": "https://localhost:8080/",
          "height": 564
        },
        "outputId": "61665a4a-735c-45d1-cd02-2fb98196548e"
      },
      "source": [
        "val_df = val_df.rename(columns={\"propaganda_label\": \"propaganda_label_v\", \"article_text\" : \"article_text_v\"})\n",
        "val_df.head()"
      ],
      "execution_count": 372,
      "outputs": [
        {
          "output_type": "execute_result",
          "data": {
            "text/html": [
              "<div>\n",
              "<style scoped>\n",
              "    .dataframe tbody tr th:only-of-type {\n",
              "        vertical-align: middle;\n",
              "    }\n",
              "\n",
              "    .dataframe tbody tr th {\n",
              "        vertical-align: top;\n",
              "    }\n",
              "\n",
              "    .dataframe thead th {\n",
              "        text-align: right;\n",
              "    }\n",
              "</style>\n",
              "<table border=\"1\" class=\"dataframe\">\n",
              "  <thead>\n",
              "    <tr style=\"text-align: right;\">\n",
              "      <th></th>\n",
              "      <th>article_text_v</th>\n",
              "      <th>event_location</th>\n",
              "      <th>average_tone</th>\n",
              "      <th>article_date</th>\n",
              "      <th>article_ID</th>\n",
              "      <th>article_URL_direct</th>\n",
              "      <th>MBFC_factuality_label_source</th>\n",
              "      <th>article_url</th>\n",
              "      <th>MBFC_factuality_label</th>\n",
              "      <th>URL_to_MBFC_page</th>\n",
              "      <th>source_name</th>\n",
              "      <th>MBFC_notes_about_source</th>\n",
              "      <th>MBFC_bias_label</th>\n",
              "      <th>source_URL</th>\n",
              "      <th>propaganda_label_v</th>\n",
              "    </tr>\n",
              "  </thead>\n",
              "  <tbody>\n",
              "    <tr>\n",
              "      <th>0</th>\n",
              "      <td>Convened to examine the causes of civil unrest...</td>\n",
              "      <td>Chicago, Illinois, United States</td>\n",
              "      <td>-4.59363957597174</td>\n",
              "      <td>2018-02-27</td>\n",
              "      <td>734202079</td>\n",
              "      <td>http://www.courant.com/nation-world/ct-no-prog...</td>\n",
              "      <td>Tracy Jan</td>\n",
              "      <td>Report: No progress for African-Americans on h...</td>\n",
              "      <td>HIGH</td>\n",
              "      <td>http://mediabiasfactcheck.com/the-hartford-cou...</td>\n",
              "      <td>The Hartford Courant</td>\n",
              "      <td>The Hartford Courant is the largest daily news...</td>\n",
              "      <td>leftcenter06</td>\n",
              "      <td>courant.com</td>\n",
              "      <td>-1</td>\n",
              "    </tr>\n",
              "    <tr>\n",
              "      <th>1</th>\n",
              "      <td>Discriminating against someone on the basis of...</td>\n",
              "      <td>Chicago, Illinois, United States</td>\n",
              "      <td>-1.56695156695157</td>\n",
              "      <td>2018-02-27</td>\n",
              "      <td>734203497</td>\n",
              "      <td>http://www.courant.com/nation-world/ct-anti-di...</td>\n",
              "      <td>Matt Zapotosky</td>\n",
              "      <td>Employers can't discriminate based on sexual o...</td>\n",
              "      <td>HIGH</td>\n",
              "      <td>http://mediabiasfactcheck.com/the-hartford-cou...</td>\n",
              "      <td>The Hartford Courant</td>\n",
              "      <td>The Hartford Courant is the largest daily news...</td>\n",
              "      <td>leftcenter06</td>\n",
              "      <td>courant.com</td>\n",
              "      <td>-1</td>\n",
              "    </tr>\n",
              "    <tr>\n",
              "      <th>2</th>\n",
              "      <td>Bill Cosby's 44-year-old daughter, Ensa Cosby,...</td>\n",
              "      <td>Philadelphia, Pennsylvania, United States</td>\n",
              "      <td>-6.15065976908082</td>\n",
              "      <td>2018-02-27</td>\n",
              "      <td>734204589</td>\n",
              "      <td>http://www.courant.com/entertainment/ct-cosby-...</td>\n",
              "      <td>Bob Salsberg</td>\n",
              "      <td>Bill Cosby's daughter Ensa, 44, dies in Massac...</td>\n",
              "      <td>HIGH</td>\n",
              "      <td>http://mediabiasfactcheck.com/the-hartford-cou...</td>\n",
              "      <td>The Hartford Courant</td>\n",
              "      <td>The Hartford Courant is the largest daily news...</td>\n",
              "      <td>leftcenter06</td>\n",
              "      <td>courant.com</td>\n",
              "      <td>-1</td>\n",
              "    </tr>\n",
              "    <tr>\n",
              "      <th>3</th>\n",
              "      <td>The fast-moving, powerful theatrical locomotiv...</td>\n",
              "      <td>New York, United States</td>\n",
              "      <td>1.52439024390244</td>\n",
              "      <td>2018-02-27</td>\n",
              "      <td>734213466</td>\n",
              "      <td>http://www.courant.com/entertainment/arts-thea...</td>\n",
              "      <td>Christopher Arnott</td>\n",
              "      <td>'Murder On The Orient Express' A Funny, Fast-P...</td>\n",
              "      <td>HIGH</td>\n",
              "      <td>http://mediabiasfactcheck.com/the-hartford-cou...</td>\n",
              "      <td>The Hartford Courant</td>\n",
              "      <td>The Hartford Courant is the largest daily news...</td>\n",
              "      <td>leftcenter06</td>\n",
              "      <td>courant.com</td>\n",
              "      <td>-1</td>\n",
              "    </tr>\n",
              "    <tr>\n",
              "      <th>4</th>\n",
              "      <td>It's Friday. It's National Pizza Day. Grab lif...</td>\n",
              "      <td>West Hartford, Connecticut, United States</td>\n",
              "      <td>1.19760479041916</td>\n",
              "      <td>2018-02-09</td>\n",
              "      <td>729554384</td>\n",
              "      <td>http://www.courant.com/features/food/hc-nation...</td>\n",
              "      <td>Nicholas Rondinone</td>\n",
              "      <td>You Can Celebrate National Pizza Day Right Here</td>\n",
              "      <td>HIGH</td>\n",
              "      <td>http://mediabiasfactcheck.com/the-hartford-cou...</td>\n",
              "      <td>The Hartford Courant</td>\n",
              "      <td>The Hartford Courant is the largest daily news...</td>\n",
              "      <td>leftcenter06</td>\n",
              "      <td>courant.com</td>\n",
              "      <td>-1</td>\n",
              "    </tr>\n",
              "  </tbody>\n",
              "</table>\n",
              "</div>"
            ],
            "text/plain": [
              "                                      article_text_v  ... propaganda_label_v\n",
              "0  Convened to examine the causes of civil unrest...  ...                 -1\n",
              "1  Discriminating against someone on the basis of...  ...                 -1\n",
              "2  Bill Cosby's 44-year-old daughter, Ensa Cosby,...  ...                 -1\n",
              "3  The fast-moving, powerful theatrical locomotiv...  ...                 -1\n",
              "4  It's Friday. It's National Pizza Day. Grab lif...  ...                 -1\n",
              "\n",
              "[5 rows x 15 columns]"
            ]
          },
          "metadata": {
            "tags": []
          },
          "execution_count": 372
        }
      ]
    },
    {
      "cell_type": "markdown",
      "metadata": {
        "id": "CLALYZCYwsrT",
        "colab_type": "text"
      },
      "source": [
        "We do the same to the val and test data to make sure the format of the data is consistent throughout."
      ]
    },
    {
      "cell_type": "code",
      "metadata": {
        "colab_type": "code",
        "outputId": "9ad2b581-de7e-4afc-8439-b96d32ce9b91",
        "id": "f5C9cClxwUyi",
        "colab": {
          "base_uri": "https://localhost:8080/",
          "height": 34
        }
      },
      "source": [
        "val_df.propaganda_label_v.unique()"
      ],
      "execution_count": 373,
      "outputs": [
        {
          "output_type": "execute_result",
          "data": {
            "text/plain": [
              "array([-1,  1])"
            ]
          },
          "metadata": {
            "tags": []
          },
          "execution_count": 373
        }
      ]
    },
    {
      "cell_type": "code",
      "metadata": {
        "colab_type": "code",
        "outputId": "343aba96-c50a-46d4-bdce-e83c4e468bb1",
        "id": "PhgbGfA0wUy0",
        "colab": {
          "base_uri": "https://localhost:8080/",
          "height": 391
        }
      },
      "source": [
        "val_df.info()"
      ],
      "execution_count": 374,
      "outputs": [
        {
          "output_type": "stream",
          "text": [
            "<class 'pandas.core.frame.DataFrame'>\n",
            "RangeIndex: 5139 entries, 0 to 5138\n",
            "Data columns (total 15 columns):\n",
            " #   Column                        Non-Null Count  Dtype \n",
            "---  ------                        --------------  ----- \n",
            " 0   article_text_v                5139 non-null   object\n",
            " 1   event_location                5139 non-null   object\n",
            " 2   average_tone                  5139 non-null   object\n",
            " 3   article_date                  5139 non-null   object\n",
            " 4   article_ID                    5139 non-null   object\n",
            " 5   article_URL_direct            5139 non-null   object\n",
            " 6   MBFC_factuality_label_source  5139 non-null   object\n",
            " 7   article_url                   5139 non-null   object\n",
            " 8   MBFC_factuality_label         5139 non-null   object\n",
            " 9   URL_to_MBFC_page              5139 non-null   object\n",
            " 10  source_name                   5139 non-null   object\n",
            " 11  MBFC_notes_about_source       5139 non-null   object\n",
            " 12  MBFC_bias_label               5139 non-null   object\n",
            " 13  source_URL                    5139 non-null   object\n",
            " 14  propaganda_label_v            5139 non-null   int64 \n",
            "dtypes: int64(1), object(14)\n",
            "memory usage: 602.4+ KB\n"
          ],
          "name": "stdout"
        }
      ]
    },
    {
      "cell_type": "code",
      "metadata": {
        "id": "Oxs7ZziLzCTU",
        "colab_type": "code",
        "colab": {}
      },
      "source": [
        "lbl_v = val_df['propaganda_label_v']\n",
        "text_v = val_df['article_text_v']"
      ],
      "execution_count": 0,
      "outputs": []
    },
    {
      "cell_type": "markdown",
      "metadata": {
        "colab_type": "text",
        "id": "ey91My3BwUy-"
      },
      "source": [
        "Now we can look at how many articles are labeled 'propaganstic', 1,  and 'non-propaganistic', -1. -The bias labels have 35 types of bias categories, unknown being one of them which is categorized as non-propaganistic. This is helpful in understanding why there are significantly larger numbers of non-propaganistic labels over propagandistic.  "
      ]
    },
    {
      "cell_type": "code",
      "metadata": {
        "id": "k7zN-WKqzUcF",
        "colab_type": "code",
        "colab": {
          "base_uri": "https://localhost:8080/",
          "height": 102
        },
        "outputId": "a2e6c4e3-005f-4bf7-ed5d-17505bc7166e"
      },
      "source": [
        "groupedv = val_df.groupby('propaganda_label_v')\n",
        "print(\"total categories:\", groupedv.ngroups)\n",
        "print(groupedv.size())"
      ],
      "execution_count": 376,
      "outputs": [
        {
          "output_type": "stream",
          "text": [
            "total categories: 2\n",
            "propaganda_label_v\n",
            "-1    4564\n",
            " 1     575\n",
            "dtype: int64\n"
          ],
          "name": "stdout"
        }
      ]
    },
    {
      "cell_type": "code",
      "metadata": {
        "colab_type": "code",
        "id": "kAZei7lIwUzF",
        "colab": {}
      },
      "source": [
        "#clean the text  to remove puntuation and unessesary spaces\n",
        "\n",
        "import re\n",
        "def clean_str(string):\n",
        "    \"\"\"\n",
        "    Tokenization/string cleaning for dataset\n",
        "    Every dataset is lower cased except\n",
        "    \"\"\"\n",
        "    string = re.sub(r\"\\\\\", \"\", string)    \n",
        "    string = re.sub(r\"\\'\", \"\", string)    \n",
        "    string = re.sub(r\"\\\"\", \"\", string)    \n",
        "    return string.strip().lower()"
      ],
      "execution_count": 0,
      "outputs": []
    },
    {
      "cell_type": "code",
      "metadata": {
        "id": "Lr7ZM5OMtAhq",
        "colab_type": "code",
        "colab": {}
      },
      "source": [
        "paras_V = []\n",
        "labels_V = []\n",
        "texts_V = []"
      ],
      "execution_count": 0,
      "outputs": []
    },
    {
      "cell_type": "code",
      "metadata": {
        "id": "27Vb_8H6szKG",
        "colab_type": "code",
        "colab": {}
      },
      "source": [
        "vsent_lens = []\n",
        "vsent_nums = []\n",
        "for idx in range(val_df.article_text_v.shape[0]):\n",
        "    text_v = clean_str(val_df.article_text_v[idx])\n",
        "    texts_V.append(text_v)\n",
        "    sentences_v = tokenize.sent_tokenize(text_v)\n",
        "    vsent_nums.append(len(sentences_v))\n",
        "    for sentv in sentences_v:\n",
        "        vsent_lens.append(len(text_to_word_sequence(sentv)))\n",
        "    paras_V.append(sentences_v)"
      ],
      "execution_count": 0,
      "outputs": []
    },
    {
      "cell_type": "code",
      "metadata": {
        "id": "qRXXiltstUlI",
        "colab_type": "code",
        "outputId": "35fb10f2-1a6a-4018-dab6-197bf1f7ac3a",
        "colab": {
          "base_uri": "https://localhost:8080/",
          "height": 265
        }
      },
      "source": [
        "sns.distplot(vsent_lens, bins=50)\n",
        "plt.show()"
      ],
      "execution_count": 380,
      "outputs": [
        {
          "output_type": "display_data",
          "data": {
            "image/png": "[encoded data removed]",
            "text/plain": [
              "<Figure size 432x288 with 1 Axes>"
            ]
          },
          "metadata": {
            "tags": [],
            "needs_background": "light"
          }
        }
      ]
    },
    {
      "cell_type": "markdown",
      "metadata": {
        "id": "zWNMG4_Qw7nX",
        "colab_type": "text"
      },
      "source": [
        "Below is a micro-view of the sentence length"
      ]
    },
    {
      "cell_type": "code",
      "metadata": {
        "id": "KrFOCEVKtcTO",
        "colab_type": "code",
        "outputId": "da7adbc9-c970-49ca-bff2-41e3f633e9d0",
        "colab": {
          "base_uri": "https://localhost:8080/",
          "height": 265
        }
      },
      "source": [
        "sns.distplot(vsent_nums)\n",
        "plt.show()"
      ],
      "execution_count": 381,
      "outputs": [
        {
          "output_type": "display_data",
          "data": {
            "image/png": "[encoded data removed]",
            "text/plain": [
              "<Figure size 432x288 with 1 Axes>"
            ]
          },
          "metadata": {
            "tags": [],
            "needs_background": "light"
          }
        }
      ]
    },
    {
      "cell_type": "code",
      "metadata": {
        "id": "GeGdvH-9t06e",
        "colab_type": "code",
        "colab": {}
      },
      "source": [
        "tokenizerv = Tokenizer(num_words=max_features, oov_token=True)\n",
        "tokenizerv.fit_on_texts(texts_V)"
      ],
      "execution_count": 0,
      "outputs": []
    },
    {
      "cell_type": "code",
      "metadata": {
        "id": "VkXyz5w1uCaq",
        "colab_type": "code",
        "colab": {}
      },
      "source": [
        "vdata = np.zeros((len(texts_V), max_senten_num, max_senten_len), dtype='int32')\n",
        "for i, sentences_v in enumerate(paras_V):\n",
        "    for j, sent_v in enumerate(sentences_v):\n",
        "        if j< max_senten_num:\n",
        "            wordTokens_v = text_to_word_sequence(sent_v)\n",
        "            k=0\n",
        "            for _, word_v in enumerate(wordTokens_v):\n",
        "                try:\n",
        "                    if k<max_senten_len and tokenizerv.word_index[word_v]<max_features:\n",
        "                        data[i,j,k] = tokenizerv.word_index[word_v]\n",
        "                        k=k+1\n",
        "                except:\n",
        "                    print(word_v)\n",
        "                    pass"
      ],
      "execution_count": 0,
      "outputs": []
    },
    {
      "cell_type": "code",
      "metadata": {
        "id": "YP0ESb1AucIC",
        "colab_type": "code",
        "outputId": "39a4b0b8-ae43-4501-b355-633bd08133fa",
        "colab": {
          "base_uri": "https://localhost:8080/",
          "height": 34
        }
      },
      "source": [
        "vdata.shape"
      ],
      "execution_count": 384,
      "outputs": [
        {
          "output_type": "execute_result",
          "data": {
            "text/plain": [
              "(5139, 10, 50)"
            ]
          },
          "metadata": {
            "tags": []
          },
          "execution_count": 384
        }
      ]
    },
    {
      "cell_type": "code",
      "metadata": {
        "id": "XpSECNN1uiRb",
        "colab_type": "code",
        "outputId": "af782db8-d0ee-4546-f1ad-fbe7b4d31fd9",
        "colab": {
          "base_uri": "https://localhost:8080/",
          "height": 34
        }
      },
      "source": [
        "word_indexv = tokenizerv.word_index\n",
        "print('Total %s unique tokens.' % len(word_indexv))"
      ],
      "execution_count": 385,
      "outputs": [
        {
          "output_type": "stream",
          "text": [
            "Total 83644 unique tokens.\n"
          ],
          "name": "stdout"
        }
      ]
    },
    {
      "cell_type": "code",
      "metadata": {
        "id": "SJUFdYT4uy0t",
        "colab_type": "code",
        "colab": {}
      },
      "source": [
        "labels_V = pd.get_dummies(lbl_v)"
      ],
      "execution_count": 0,
      "outputs": []
    },
    {
      "cell_type": "code",
      "metadata": {
        "id": "5VfYm-q0vMi9",
        "colab_type": "code",
        "outputId": "0a213867-8409-466a-ba56-54d44d091f0d",
        "colab": {
          "base_uri": "https://localhost:8080/",
          "height": 51
        }
      },
      "source": [
        "print('Shape of data tensor:', vdata.shape)\n",
        "print('Shape of labels tensor:', labels_V.shape)"
      ],
      "execution_count": 387,
      "outputs": [
        {
          "output_type": "stream",
          "text": [
            "Shape of data tensor: (5139, 10, 50)\n",
            "Shape of labels tensor: (5139, 2)\n"
          ],
          "name": "stdout"
        }
      ]
    },
    {
      "cell_type": "code",
      "metadata": {
        "id": "i-LkCBlK0p_Q",
        "colab_type": "code",
        "colab": {}
      },
      "source": [
        "indices = np.arange(vdata.shape[0])\n",
        "np.random.shuffle(indices)\n",
        "vdata = vdata[indices]\n",
        "labels_V = labels_V.iloc[indices]\n",
        "#vnb_validation_samples = int(VALIDATION_SPLIT * vdata.shape[0])\n",
        "\n",
        "#x_train = data\n",
        "#y_train = labels\n",
        "#x_val = vdata\n",
        "#y_val = labels_V\n",
        "# x_test = tdata\n",
        "# y_test = labels_y\n",
        "#print('Number of propaganistic and nonpropaganistic reviews in traing and validation set')\n",
        "#print(y_train.columns.tolist())\n",
        "#print(y_train.sum(axis=0).tolist())\n",
        "#print(y_val.sum(axis=0).tolist())\n",
        "# print(y_test.sum(axis=0).tolist())"
      ],
      "execution_count": 0,
      "outputs": []
    },
    {
      "cell_type": "markdown",
      "metadata": {
        "id": "9MSG7orGNLyg",
        "colab_type": "text"
      },
      "source": [
        "No we format the test dataset"
      ]
    },
    {
      "cell_type": "code",
      "metadata": {
        "colab_type": "code",
        "outputId": "44d06b7f-2d7c-425b-c9ae-c9bf52de6780",
        "id": "AX7Ds4KC0qV_",
        "colab": {
          "base_uri": "https://localhost:8080/",
          "height": 34
        }
      },
      "source": [
        "test_df.propaganda_label.unique()"
      ],
      "execution_count": 389,
      "outputs": [
        {
          "output_type": "execute_result",
          "data": {
            "text/plain": [
              "array([-1,  1])"
            ]
          },
          "metadata": {
            "tags": []
          },
          "execution_count": 389
        }
      ]
    },
    {
      "cell_type": "code",
      "metadata": {
        "colab_type": "code",
        "outputId": "3261f438-ba91-432f-c61b-e2b42cb84abd",
        "id": "q3FJ_tgn0qWL",
        "colab": {
          "base_uri": "https://localhost:8080/",
          "height": 391
        }
      },
      "source": [
        "test_df.info()"
      ],
      "execution_count": 390,
      "outputs": [
        {
          "output_type": "stream",
          "text": [
            "<class 'pandas.core.frame.DataFrame'>\n",
            "RangeIndex: 10162 entries, 0 to 10161\n",
            "Data columns (total 15 columns):\n",
            " #   Column                        Non-Null Count  Dtype \n",
            "---  ------                        --------------  ----- \n",
            " 0   article_text                  10162 non-null  object\n",
            " 1   event_location                10162 non-null  object\n",
            " 2   average_tone                  10162 non-null  object\n",
            " 3   article_date                  10162 non-null  object\n",
            " 4   article_ID                    10162 non-null  object\n",
            " 5   article_URL_direct            10162 non-null  object\n",
            " 6   MBFC_factuality_label_source  10162 non-null  object\n",
            " 7   article_url                   10162 non-null  object\n",
            " 8   MBFC_factuality_label         10162 non-null  object\n",
            " 9   URL_to_MBFC_page              10162 non-null  object\n",
            " 10  source_name                   10162 non-null  object\n",
            " 11  MBFC_notes_about_source       10162 non-null  object\n",
            " 12  MBFC_bias_label               10162 non-null  object\n",
            " 13  source_URL                    10162 non-null  object\n",
            " 14  propaganda_label              10162 non-null  int64 \n",
            "dtypes: int64(1), object(14)\n",
            "memory usage: 1.2+ MB\n"
          ],
          "name": "stdout"
        }
      ]
    },
    {
      "cell_type": "code",
      "metadata": {
        "id": "RSOkEHNZNQXc",
        "colab_type": "code",
        "colab": {
          "base_uri": "https://localhost:8080/",
          "height": 564
        },
        "outputId": "970e1403-44d0-4d38-fbd2-1f3c44602b0e"
      },
      "source": [
        "test_df = test_df.rename(columns={\"propaganda_label\": \"propaganda_label_t\", \"article_text\" : \"article_text_t\"})\n",
        "test_df.head()"
      ],
      "execution_count": 391,
      "outputs": [
        {
          "output_type": "execute_result",
          "data": {
            "text/html": [
              "<div>\n",
              "<style scoped>\n",
              "    .dataframe tbody tr th:only-of-type {\n",
              "        vertical-align: middle;\n",
              "    }\n",
              "\n",
              "    .dataframe tbody tr th {\n",
              "        vertical-align: top;\n",
              "    }\n",
              "\n",
              "    .dataframe thead th {\n",
              "        text-align: right;\n",
              "    }\n",
              "</style>\n",
              "<table border=\"1\" class=\"dataframe\">\n",
              "  <thead>\n",
              "    <tr style=\"text-align: right;\">\n",
              "      <th></th>\n",
              "      <th>article_text_t</th>\n",
              "      <th>event_location</th>\n",
              "      <th>average_tone</th>\n",
              "      <th>article_date</th>\n",
              "      <th>article_ID</th>\n",
              "      <th>article_URL_direct</th>\n",
              "      <th>MBFC_factuality_label_source</th>\n",
              "      <th>article_url</th>\n",
              "      <th>MBFC_factuality_label</th>\n",
              "      <th>URL_to_MBFC_page</th>\n",
              "      <th>source_name</th>\n",
              "      <th>MBFC_notes_about_source</th>\n",
              "      <th>MBFC_bias_label</th>\n",
              "      <th>source_URL</th>\n",
              "      <th>propaganda_label_t</th>\n",
              "    </tr>\n",
              "  </thead>\n",
              "  <tbody>\n",
              "    <tr>\n",
              "      <th>0</th>\n",
              "      <td>Eat in Connecticut teamed up with End Hunger C...</td>\n",
              "      <td>Shiraz, Fars, Iran</td>\n",
              "      <td>0.78125</td>\n",
              "      <td>2018-02-05</td>\n",
              "      <td>728352356</td>\n",
              "      <td>http://www.courant.com/community/west-hartford...</td>\n",
              "      <td>Dennis Hohenberger</td>\n",
              "      <td>Pub Crawl Benefits End Hunger Connecticut</td>\n",
              "      <td>HIGH</td>\n",
              "      <td>http://mediabiasfactcheck.com/the-hartford-cou...</td>\n",
              "      <td>The Hartford Courant</td>\n",
              "      <td>The Hartford Courant is the largest daily news...</td>\n",
              "      <td>leftcenter06</td>\n",
              "      <td>courant.com</td>\n",
              "      <td>-1</td>\n",
              "    </tr>\n",
              "    <tr>\n",
              "      <th>1</th>\n",
              "      <td>Owners of an old Pennsylvania power plant that...</td>\n",
              "      <td>Brunner Island, Pennsylvania, United States</td>\n",
              "      <td>-1.61579892280072</td>\n",
              "      <td>2018-02-15</td>\n",
              "      <td>730955196</td>\n",
              "      <td>http://www.courant.com/politics/hc-pol-brunner...</td>\n",
              "      <td>Gregory B. Hladky</td>\n",
              "      <td>Sierra Club Reaches Deal On Plant Polluting Co...</td>\n",
              "      <td>HIGH</td>\n",
              "      <td>http://mediabiasfactcheck.com/the-hartford-cou...</td>\n",
              "      <td>The Hartford Courant</td>\n",
              "      <td>The Hartford Courant is the largest daily news...</td>\n",
              "      <td>leftcenter06</td>\n",
              "      <td>courant.com</td>\n",
              "      <td>-1</td>\n",
              "    </tr>\n",
              "    <tr>\n",
              "      <th>2</th>\n",
              "      <td>The majority owner of President Donald Trump's...</td>\n",
              "      <td>Manhattan, New York, United States</td>\n",
              "      <td>-4.177545691906</td>\n",
              "      <td>2018-02-25</td>\n",
              "      <td>733772812</td>\n",
              "      <td>http://www.courant.com/nation-world/ct-trump-p...</td>\n",
              "      <td>Ana Cerrud</td>\n",
              "      <td>Police, yelling, power turned off: Confrontati...</td>\n",
              "      <td>HIGH</td>\n",
              "      <td>http://mediabiasfactcheck.com/the-hartford-cou...</td>\n",
              "      <td>The Hartford Courant</td>\n",
              "      <td>The Hartford Courant is the largest daily news...</td>\n",
              "      <td>leftcenter06</td>\n",
              "      <td>courant.com</td>\n",
              "      <td>-1</td>\n",
              "    </tr>\n",
              "    <tr>\n",
              "      <th>3</th>\n",
              "      <td>Connecticut’s most likely option for using tol...</td>\n",
              "      <td>Connecticut, United States</td>\n",
              "      <td>-7.20081135902637</td>\n",
              "      <td>2018-01-04</td>\n",
              "      <td>727857752</td>\n",
              "      <td>http://www.courant.com/politics/hc-pol-toll-co...</td>\n",
              "      <td>Gregory B. Hladky</td>\n",
              "      <td>'Congestion Pricing' Is A Likely Option If Con...</td>\n",
              "      <td>HIGH</td>\n",
              "      <td>http://mediabiasfactcheck.com/the-hartford-cou...</td>\n",
              "      <td>The Hartford Courant</td>\n",
              "      <td>The Hartford Courant is the largest daily news...</td>\n",
              "      <td>leftcenter06</td>\n",
              "      <td>courant.com</td>\n",
              "      <td>-1</td>\n",
              "    </tr>\n",
              "    <tr>\n",
              "      <th>4</th>\n",
              "      <td>Escaped prisoner Jerry Mercado is back in Conn...</td>\n",
              "      <td>Georgia, United States</td>\n",
              "      <td>-6.53409090909091</td>\n",
              "      <td>2018-02-03</td>\n",
              "      <td>727792592</td>\n",
              "      <td>http://www.courant.com/breaking-news/hc-prison...</td>\n",
              "      <td>David Owens</td>\n",
              "      <td>Escaped Prisoner Jerry Mercado Back In Connect...</td>\n",
              "      <td>HIGH</td>\n",
              "      <td>http://mediabiasfactcheck.com/the-hartford-cou...</td>\n",
              "      <td>The Hartford Courant</td>\n",
              "      <td>The Hartford Courant is the largest daily news...</td>\n",
              "      <td>leftcenter06</td>\n",
              "      <td>courant.com</td>\n",
              "      <td>-1</td>\n",
              "    </tr>\n",
              "  </tbody>\n",
              "</table>\n",
              "</div>"
            ],
            "text/plain": [
              "                                      article_text_t  ... propaganda_label_t\n",
              "0  Eat in Connecticut teamed up with End Hunger C...  ...                 -1\n",
              "1  Owners of an old Pennsylvania power plant that...  ...                 -1\n",
              "2  The majority owner of President Donald Trump's...  ...                 -1\n",
              "3  Connecticut’s most likely option for using tol...  ...                 -1\n",
              "4  Escaped prisoner Jerry Mercado is back in Conn...  ...                 -1\n",
              "\n",
              "[5 rows x 15 columns]"
            ]
          },
          "metadata": {
            "tags": []
          },
          "execution_count": 391
        }
      ]
    },
    {
      "cell_type": "code",
      "metadata": {
        "colab_type": "code",
        "id": "64USgxbp0qWU",
        "colab": {}
      },
      "source": [
        "lbl_t = test_df['propaganda_label_t']\n",
        "text_t = test_df['article_text_t']"
      ],
      "execution_count": 0,
      "outputs": []
    },
    {
      "cell_type": "markdown",
      "metadata": {
        "colab_type": "text",
        "id": "-XjcV8440qWa"
      },
      "source": [
        "Now we can look at how many articles are labeled 'propaganstic', 1,  and 'non-propaganistic', -1. -The bias labels have 35 types of bias categories, unknown being one of them which is categorized as non-propaganistic. This is helpful in understanding why there are significantly larger numbers of non-propaganistic labels over propagandistic.  "
      ]
    },
    {
      "cell_type": "code",
      "metadata": {
        "colab_type": "code",
        "outputId": "ce526ab0-1d57-4d91-944f-43542b4c92ee",
        "id": "1pNQjSu_0qWb",
        "colab": {
          "base_uri": "https://localhost:8080/",
          "height": 102
        }
      },
      "source": [
        "groupedt = test_df.groupby('propaganda_label_t')\n",
        "print(\"total categories:\", groupedt.ngroups)\n",
        "print(groupedt.size())"
      ],
      "execution_count": 393,
      "outputs": [
        {
          "output_type": "stream",
          "text": [
            "total categories: 2\n",
            "propaganda_label_t\n",
            "-1    9021\n",
            " 1    1141\n",
            "dtype: int64\n"
          ],
          "name": "stdout"
        }
      ]
    },
    {
      "cell_type": "code",
      "metadata": {
        "colab_type": "code",
        "id": "Hns1lrEC0qWg",
        "colab": {}
      },
      "source": [
        "#clean the text  to remove puntuation and unessesary spaces\n",
        "\n",
        "import re\n",
        "def clean_str(string):\n",
        "    \"\"\"\n",
        "    Tokenization/string cleaning for dataset\n",
        "    Every dataset is lower cased except\n",
        "    \"\"\"\n",
        "    string = re.sub(r\"\\\\\", \"\", string)    \n",
        "    string = re.sub(r\"\\'\", \"\", string)    \n",
        "    string = re.sub(r\"\\\"\", \"\", string)    \n",
        "    return string.strip().lower()"
      ],
      "execution_count": 0,
      "outputs": []
    },
    {
      "cell_type": "code",
      "metadata": {
        "colab_type": "code",
        "id": "q2z4OPPC0qWj",
        "colab": {}
      },
      "source": [
        "paras_t = []\n",
        "labels_t = []\n",
        "texts_t = []"
      ],
      "execution_count": 0,
      "outputs": []
    },
    {
      "cell_type": "code",
      "metadata": {
        "colab_type": "code",
        "id": "xLGFcKry0qWo",
        "colab": {}
      },
      "source": [
        "sent_lens_t = []\n",
        "sent_nums_t = []\n",
        "for idx in range(test_df.article_text_t.shape[0]):\n",
        "    textt = clean_str(test_df.article_text_t[idx])\n",
        "    texts_t.append(textt)\n",
        "    sentences_t = tokenize.sent_tokenize(textt)\n",
        "    sent_nums_t.append(len(sentences_t))\n",
        "    for sentt in sentences_t:\n",
        "        sent_lens_t.append(len(text_to_word_sequence(sentt)))\n",
        "    paras_t.append(sentences_t)"
      ],
      "execution_count": 0,
      "outputs": []
    },
    {
      "cell_type": "code",
      "metadata": {
        "colab_type": "code",
        "outputId": "e0b09cc4-93de-428c-c8fb-aacd2f1229e8",
        "id": "ZFjKRduu0qWr",
        "colab": {
          "base_uri": "https://localhost:8080/",
          "height": 267
        }
      },
      "source": [
        "sns.distplot(sent_lens_t, bins=10)\n",
        "plt.show()"
      ],
      "execution_count": 397,
      "outputs": [
        {
          "output_type": "display_data",
          "data": {
            "image/png": "[encoded data removed]",
            "text/plain": [
              "<Figure size 432x288 with 1 Axes>"
            ]
          },
          "metadata": {
            "tags": [],
            "needs_background": "light"
          }
        }
      ]
    },
    {
      "cell_type": "markdown",
      "metadata": {
        "colab_type": "text",
        "id": "ufXGRNCH0qWt"
      },
      "source": [
        "Below is a micro-view of the sentence length"
      ]
    },
    {
      "cell_type": "code",
      "metadata": {
        "colab_type": "code",
        "outputId": "a882e274-977e-41c9-e35f-01502bf69272",
        "id": "acRnxp-q0qWt",
        "colab": {
          "base_uri": "https://localhost:8080/",
          "height": 265
        }
      },
      "source": [
        "sns.distplot(sent_nums_t)\n",
        "plt.show()"
      ],
      "execution_count": 398,
      "outputs": [
        {
          "output_type": "display_data",
          "data": {
            "image/png": "[encoded data removed]",
            "text/plain": [
              "<Figure size 432x288 with 1 Axes>"
            ]
          },
          "metadata": {
            "tags": [],
            "needs_background": "light"
          }
        }
      ]
    },
    {
      "cell_type": "code",
      "metadata": {
        "colab_type": "code",
        "id": "z5wM8oVj0qWw",
        "colab": {}
      },
      "source": [
        "tokenizert = Tokenizer(num_words=max_features, oov_token=True)\n",
        "tokenizert.fit_on_texts(texts_t)"
      ],
      "execution_count": 0,
      "outputs": []
    },
    {
      "cell_type": "code",
      "metadata": {
        "colab_type": "code",
        "id": "EFTM3hFA0qWx",
        "colab": {}
      },
      "source": [
        "tdata = np.zeros((len(texts_t), max_senten_num, max_senten_len), dtype='int32')\n",
        "for i, sentences_t in enumerate(paras_t):\n",
        "    for j, sentt in enumerate(sentences_t):\n",
        "        if j< max_senten_num:\n",
        "            wordTokenst = text_to_word_sequence(sentt)\n",
        "            k=0\n",
        "            for _, wordt in enumerate(wordTokenst):\n",
        "                try:\n",
        "                    if k<max_senten_len and tokenizert.word_index[wordt]<max_features:\n",
        "                        data[i,j,k] = tokenizert.word_index[wordt]\n",
        "                        k=k+1\n",
        "                except:\n",
        "                    print(wordt)\n",
        "                    pass"
      ],
      "execution_count": 0,
      "outputs": []
    },
    {
      "cell_type": "code",
      "metadata": {
        "colab_type": "code",
        "outputId": "561c1428-eb79-421d-ba4a-99bbc195803c",
        "id": "95_zOQvH0qWz",
        "colab": {
          "base_uri": "https://localhost:8080/",
          "height": 34
        }
      },
      "source": [
        "tdata.shape"
      ],
      "execution_count": 401,
      "outputs": [
        {
          "output_type": "execute_result",
          "data": {
            "text/plain": [
              "(10162, 10, 50)"
            ]
          },
          "metadata": {
            "tags": []
          },
          "execution_count": 401
        }
      ]
    },
    {
      "cell_type": "code",
      "metadata": {
        "colab_type": "code",
        "outputId": "06e7bb87-6825-415e-892f-b06ee822729a",
        "id": "LW1zaP770qW3",
        "colab": {
          "base_uri": "https://localhost:8080/",
          "height": 34
        }
      },
      "source": [
        "word_indext = tokenizert.word_index\n",
        "print('Total %s unique tokens.' % len(word_indext))"
      ],
      "execution_count": 402,
      "outputs": [
        {
          "output_type": "stream",
          "text": [
            "Total 120703 unique tokens.\n"
          ],
          "name": "stdout"
        }
      ]
    },
    {
      "cell_type": "code",
      "metadata": {
        "colab_type": "code",
        "id": "ZKQ_seU60qW5",
        "colab": {}
      },
      "source": [
        "labels_t = pd.get_dummies(lbl_t)\n"
      ],
      "execution_count": 0,
      "outputs": []
    },
    {
      "cell_type": "code",
      "metadata": {
        "colab_type": "code",
        "outputId": "e7217c2f-f998-4fae-b364-207fba4225c6",
        "id": "vigs5wAx0qW7",
        "colab": {
          "base_uri": "https://localhost:8080/",
          "height": 51
        }
      },
      "source": [
        "print('Shape of data tensor:', tdata.shape)\n",
        "print('Shape of labels tensor:', labels_t.shape)"
      ],
      "execution_count": 404,
      "outputs": [
        {
          "output_type": "stream",
          "text": [
            "Shape of data tensor: (10162, 10, 50)\n",
            "Shape of labels tensor: (10162, 2)\n"
          ],
          "name": "stdout"
        }
      ]
    },
    {
      "cell_type": "code",
      "metadata": {
        "id": "gtxvlxf0yy5I",
        "colab_type": "code",
        "colab": {
          "base_uri": "https://localhost:8080/",
          "height": 102
        },
        "outputId": "d382cf64-7a5f-48db-cd6f-190a221843e1"
      },
      "source": [
        "indices = np.arange(tdata.shape[0])\n",
        "np.random.shuffle(indices)\n",
        "tdata = tdata[indices]\n",
        "labels_t = labels_t.iloc[indices]\n",
        "tnb_validation_samples = int(VALIDATION_SPLIT * tdata.shape[0])\n",
        "\n",
        "x_train = data\n",
        "y_train = labels\n",
        "x_val = vdata\n",
        "y_val = labels_V\n",
        "x_test = tdata\n",
        "y_test = labels_t\n",
        "print('Number of propagandistic and nonpropagandistic labels in traing, validation, and testing set')\n",
        "print('labels: ', y_train.columns.tolist())\n",
        "print('training:', y_train.sum(axis=0).tolist())\n",
        "print('validation:', y_val.sum(axis=0).tolist())\n",
        "print('testing:', y_test.sum(axis=0).tolist())"
      ],
      "execution_count": 405,
      "outputs": [
        {
          "output_type": "stream",
          "text": [
            "Number of propagandistic and nonpropagandistic labels in traing, validation, and testing set\n",
            "labels:  [-1, 1]\n",
            "training: [31972, 4021]\n",
            "validation: [4564, 575]\n",
            "testing: [9021, 1141]\n"
          ],
          "name": "stdout"
        }
      ]
    },
    {
      "cell_type": "markdown",
      "metadata": {
        "id": "Fr5VuB8d8OoG",
        "colab_type": "text"
      },
      "source": [
        "Now we can potentially work with the model!!"
      ]
    },
    {
      "cell_type": "code",
      "metadata": {
        "id": "pfuht1s58UWb",
        "colab_type": "code",
        "colab": {}
      },
      "source": [
        "import os\n"
      ],
      "execution_count": 0,
      "outputs": []
    },
    {
      "cell_type": "code",
      "metadata": {
        "id": "ABhGIV9DrF7e",
        "colab_type": "code",
        "colab": {}
      },
      "source": [
        "import zipfile\n",
        "from google.colab import drive\n",
        "\n",
        "zip_ref = zipfile.ZipFile(\"My Drive/Spring 2020/ECE 523 - Machine Learning/ECE_523_FP-(1)/glove.6B.zip\", 'r')\n",
        "zip_ref.extractall(\"/tmp\")\n",
        "#zip_ref.close()"
      ],
      "execution_count": 0,
      "outputs": []
    },
    {
      "cell_type": "code",
      "metadata": {
        "id": "a1ONT28ojKBj",
        "colab_type": "code",
        "outputId": "6ba376c0-2be0-443b-fd2b-c796410dcc93",
        "colab": {
          "base_uri": "https://localhost:8080/",
          "height": 34
        }
      },
      "source": [
        "GLOVE_DIR = \"My Drive/Spring 2020/ECE 523 - Machine Learning/ECE_523_FP-(1)/glove/glove.6B.100d.txt\"\n",
        "embeddings_index = {}\n",
        "f = open(GLOVE_DIR)\n",
        "for line in f:\n",
        "    try:\n",
        "        values = line.split()\n",
        "        word = values[0]\n",
        "        coefs = np.asarray(values[1:], dtype='float32')\n",
        "        embeddings_index[word] = coefs\n",
        "    except:\n",
        "        print(word)\n",
        "        pass\n",
        "f.close()\n",
        "print('Total %s word vectors.' % len(embeddings_index))"
      ],
      "execution_count": 408,
      "outputs": [
        {
          "output_type": "stream",
          "text": [
            "Total 400000 word vectors.\n"
          ],
          "name": "stdout"
        }
      ]
    },
    {
      "cell_type": "code",
      "metadata": {
        "id": "HRuow_5E8p-p",
        "colab_type": "code",
        "colab": {
          "base_uri": "https://localhost:8080/",
          "height": 34
        },
        "outputId": "b629e845-4ffa-4a7a-8c6a-5f8b9e3b921c"
      },
      "source": [
        "embedding_matrix = np.zeros((len(word_index) + 1, embed_size))\n",
        "absent_words = 0\n",
        "for word, i in word_index.items():\n",
        "    embedding_vector = embeddings_index.get(word)\n",
        "    if embedding_vector is not None:\n",
        "        # words not found in embedding index will be all-zeros.\n",
        "        embedding_matrix[i] = embedding_vector\n",
        "    else:\n",
        "        absent_words += 1\n",
        "print('Total absent words are', absent_words, 'which is', \"%0.2f\" % (absent_words * 100 / len(word_index)), '% of total words')"
      ],
      "execution_count": 409,
      "outputs": [
        {
          "output_type": "stream",
          "text": [
            "Total absent words are 46575 which is 38.59 % of total words\n"
          ],
          "name": "stdout"
        }
      ]
    },
    {
      "cell_type": "code",
      "metadata": {
        "id": "wOIowl098uYy",
        "colab_type": "code",
        "colab": {}
      },
      "source": [
        "embedding_layer = Embedding(len(word_index) + 1,embed_size,weights=[embedding_matrix], input_length=max_senten_len, trainable=False)\n"
      ],
      "execution_count": 0,
      "outputs": []
    },
    {
      "cell_type": "code",
      "metadata": {
        "id": "fT1sXpbL8Rhz",
        "colab_type": "code",
        "colab": {}
      },
      "source": [
        "REG_PARAM = 1e-13\n",
        "l2_reg = regularizers.l2(REG_PARAM)\n"
      ],
      "execution_count": 0,
      "outputs": []
    },
    {
      "cell_type": "code",
      "metadata": {
        "id": "q_lQc7X48xKr",
        "colab_type": "code",
        "colab": {
          "base_uri": "https://localhost:8080/",
          "height": 394
        },
        "outputId": "207bd49d-3795-4fc5-c902-8e595d9e9a87"
      },
      "source": [
        "word_input = Input(shape=(max_senten_len,), dtype='float32')\n",
        "word_sequences = embedding_layer(word_input)\n",
        "word_lstm = Bidirectional(LSTM(150, return_sequences=True, kernel_regularizer=l2_reg))(word_sequences)\n",
        "word_dense = TimeDistributed(Dense(200, kernel_regularizer=l2_reg))(word_lstm)\n",
        "word_att = AttentionWithContext()(word_dense)\n",
        "wordEncoder = Model(word_input, word_att)\n",
        "\n",
        "sent_input = Input(shape=(max_senten_num, max_senten_len), dtype='float32')\n",
        "sent_encoder = TimeDistributed(wordEncoder)(sent_input)\n",
        "sent_lstm = Bidirectional(LSTM(150, return_sequences=True, kernel_regularizer=l2_reg))(sent_encoder)\n",
        "sent_dense = TimeDistributed(Dense(200, kernel_regularizer=l2_reg))(sent_lstm)\n",
        "sent_att = Dropout(0.5)(AttentionWithContext()(sent_dense))\n",
        "preds = Dense(40, activation='softmax')(sent_att)\n",
        "model = Model(sent_input, preds)\n",
        "model.compile(loss='categorical_crossentropy',optimizer='adam',metrics=['acc'])"
      ],
      "execution_count": 412,
      "outputs": [
        {
          "output_type": "error",
          "ename": "TypeError",
          "evalue": "ignored",
          "traceback": [
            "\u001b[0;31m---------------------------------------------------------------------------\u001b[0m",
            "\u001b[0;31mTypeError\u001b[0m                                 Traceback (most recent call last)",
            "\u001b[0;32m<ipython-input-412-b7ceb46833e6>\u001b[0m in \u001b[0;36m<module>\u001b[0;34m()\u001b[0m\n\u001b[1;32m      3\u001b[0m \u001b[0mword_lstm\u001b[0m \u001b[0;34m=\u001b[0m \u001b[0mBidirectional\u001b[0m\u001b[0;34m(\u001b[0m\u001b[0mLSTM\u001b[0m\u001b[0;34m(\u001b[0m\u001b[0;36m150\u001b[0m\u001b[0;34m,\u001b[0m \u001b[0mreturn_sequences\u001b[0m\u001b[0;34m=\u001b[0m\u001b[0;32mTrue\u001b[0m\u001b[0;34m,\u001b[0m \u001b[0mkernel_regularizer\u001b[0m\u001b[0;34m=\u001b[0m\u001b[0ml2_reg\u001b[0m\u001b[0;34m)\u001b[0m\u001b[0;34m)\u001b[0m\u001b[0;34m(\u001b[0m\u001b[0mword_sequences\u001b[0m\u001b[0;34m)\u001b[0m\u001b[0;34m\u001b[0m\u001b[0;34m\u001b[0m\u001b[0m\n\u001b[1;32m      4\u001b[0m \u001b[0mword_dense\u001b[0m \u001b[0;34m=\u001b[0m \u001b[0mTimeDistributed\u001b[0m\u001b[0;34m(\u001b[0m\u001b[0mDense\u001b[0m\u001b[0;34m(\u001b[0m\u001b[0;36m200\u001b[0m\u001b[0;34m,\u001b[0m \u001b[0mkernel_regularizer\u001b[0m\u001b[0;34m=\u001b[0m\u001b[0ml2_reg\u001b[0m\u001b[0;34m)\u001b[0m\u001b[0;34m)\u001b[0m\u001b[0;34m(\u001b[0m\u001b[0mword_lstm\u001b[0m\u001b[0;34m)\u001b[0m\u001b[0;34m\u001b[0m\u001b[0;34m\u001b[0m\u001b[0m\n\u001b[0;32m----> 5\u001b[0;31m \u001b[0mword_att\u001b[0m \u001b[0;34m=\u001b[0m \u001b[0mAttentionWithContext\u001b[0m\u001b[0;34m(\u001b[0m\u001b[0;34m)\u001b[0m\u001b[0;34m(\u001b[0m\u001b[0mword_dense\u001b[0m\u001b[0;34m)\u001b[0m\u001b[0;34m\u001b[0m\u001b[0;34m\u001b[0m\u001b[0m\n\u001b[0m\u001b[1;32m      6\u001b[0m \u001b[0mwordEncoder\u001b[0m \u001b[0;34m=\u001b[0m \u001b[0mModel\u001b[0m\u001b[0;34m(\u001b[0m\u001b[0mword_input\u001b[0m\u001b[0;34m,\u001b[0m \u001b[0mword_att\u001b[0m\u001b[0;34m)\u001b[0m\u001b[0;34m\u001b[0m\u001b[0;34m\u001b[0m\u001b[0m\n\u001b[1;32m      7\u001b[0m \u001b[0;34m\u001b[0m\u001b[0m\n",
            "\u001b[0;32m/usr/local/lib/python3.6/dist-packages/keras/backend/tensorflow_backend.py\u001b[0m in \u001b[0;36msymbolic_fn_wrapper\u001b[0;34m(*args, **kwargs)\u001b[0m\n\u001b[1;32m     73\u001b[0m         \u001b[0;32mif\u001b[0m \u001b[0m_SYMBOLIC_SCOPE\u001b[0m\u001b[0;34m.\u001b[0m\u001b[0mvalue\u001b[0m\u001b[0;34m:\u001b[0m\u001b[0;34m\u001b[0m\u001b[0;34m\u001b[0m\u001b[0m\n\u001b[1;32m     74\u001b[0m             \u001b[0;32mwith\u001b[0m \u001b[0mget_graph\u001b[0m\u001b[0;34m(\u001b[0m\u001b[0;34m)\u001b[0m\u001b[0;34m.\u001b[0m\u001b[0mas_default\u001b[0m\u001b[0;34m(\u001b[0m\u001b[0;34m)\u001b[0m\u001b[0;34m:\u001b[0m\u001b[0;34m\u001b[0m\u001b[0;34m\u001b[0m\u001b[0m\n\u001b[0;32m---> 75\u001b[0;31m                 \u001b[0;32mreturn\u001b[0m \u001b[0mfunc\u001b[0m\u001b[0;34m(\u001b[0m\u001b[0;34m*\u001b[0m\u001b[0margs\u001b[0m\u001b[0;34m,\u001b[0m \u001b[0;34m**\u001b[0m\u001b[0mkwargs\u001b[0m\u001b[0;34m)\u001b[0m\u001b[0;34m\u001b[0m\u001b[0;34m\u001b[0m\u001b[0m\n\u001b[0m\u001b[1;32m     76\u001b[0m         \u001b[0;32melse\u001b[0m\u001b[0;34m:\u001b[0m\u001b[0;34m\u001b[0m\u001b[0;34m\u001b[0m\u001b[0m\n\u001b[1;32m     77\u001b[0m             \u001b[0;32mreturn\u001b[0m \u001b[0mfunc\u001b[0m\u001b[0;34m(\u001b[0m\u001b[0;34m*\u001b[0m\u001b[0margs\u001b[0m\u001b[0;34m,\u001b[0m \u001b[0;34m**\u001b[0m\u001b[0mkwargs\u001b[0m\u001b[0;34m)\u001b[0m\u001b[0;34m\u001b[0m\u001b[0;34m\u001b[0m\u001b[0m\n",
            "\u001b[0;32m/usr/local/lib/python3.6/dist-packages/keras/engine/base_layer.py\u001b[0m in \u001b[0;36m__call__\u001b[0;34m(self, inputs, **kwargs)\u001b[0m\n\u001b[1;32m    461\u001b[0m                                          \u001b[0;34m'You can build it manually via: '\u001b[0m\u001b[0;34m\u001b[0m\u001b[0;34m\u001b[0m\u001b[0m\n\u001b[1;32m    462\u001b[0m                                          '`layer.build(batch_input_shape)`')\n\u001b[0;32m--> 463\u001b[0;31m                 \u001b[0mself\u001b[0m\u001b[0;34m.\u001b[0m\u001b[0mbuild\u001b[0m\u001b[0;34m(\u001b[0m\u001b[0munpack_singleton\u001b[0m\u001b[0;34m(\u001b[0m\u001b[0minput_shapes\u001b[0m\u001b[0;34m)\u001b[0m\u001b[0;34m)\u001b[0m\u001b[0;34m\u001b[0m\u001b[0;34m\u001b[0m\u001b[0m\n\u001b[0m\u001b[1;32m    464\u001b[0m                 \u001b[0mself\u001b[0m\u001b[0;34m.\u001b[0m\u001b[0mbuilt\u001b[0m \u001b[0;34m=\u001b[0m \u001b[0;32mTrue\u001b[0m\u001b[0;34m\u001b[0m\u001b[0;34m\u001b[0m\u001b[0m\n\u001b[1;32m    465\u001b[0m \u001b[0;34m\u001b[0m\u001b[0m\n",
            "\u001b[0;32m<ipython-input-349-92c7068ec539>\u001b[0m in \u001b[0;36mbuild\u001b[0;34m(self, input_shape)\u001b[0m\n\u001b[1;32m     60\u001b[0m                                  \u001b[0mname\u001b[0m\u001b[0;34m=\u001b[0m\u001b[0;34m'{}_W'\u001b[0m\u001b[0;34m.\u001b[0m\u001b[0mformat\u001b[0m\u001b[0;34m(\u001b[0m\u001b[0mself\u001b[0m\u001b[0;34m.\u001b[0m\u001b[0mname\u001b[0m\u001b[0;34m)\u001b[0m\u001b[0;34m,\u001b[0m\u001b[0;34m\u001b[0m\u001b[0;34m\u001b[0m\u001b[0m\n\u001b[1;32m     61\u001b[0m                                  \u001b[0mregularizer\u001b[0m\u001b[0;34m=\u001b[0m\u001b[0mself\u001b[0m\u001b[0;34m.\u001b[0m\u001b[0mW_regularizer\u001b[0m\u001b[0;34m,\u001b[0m\u001b[0;34m\u001b[0m\u001b[0;34m\u001b[0m\u001b[0m\n\u001b[0;32m---> 62\u001b[0;31m                                  constraint=self.W_constraint)\n\u001b[0m\u001b[1;32m     63\u001b[0m         \u001b[0;32mif\u001b[0m \u001b[0mself\u001b[0m\u001b[0;34m.\u001b[0m\u001b[0mbias\u001b[0m\u001b[0;34m:\u001b[0m\u001b[0;34m\u001b[0m\u001b[0;34m\u001b[0m\u001b[0m\n\u001b[1;32m     64\u001b[0m             self.b = self.add_weight((input_shape[-1],),\n",
            "\u001b[0;31mTypeError\u001b[0m: add_weight() got multiple values for argument 'name'"
          ]
        }
      ]
    }
  ]
}